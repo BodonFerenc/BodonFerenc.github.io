{
 "cells": [
  {
   "cell_type": "code",
   "execution_count": 105,
   "metadata": {},
   "outputs": [],
   "source": [
    "\\l utils/csvutil.q\n",
    "\\l utils/pivot.q"
   ]
  },
  {
   "cell_type": "code",
   "execution_count": 7,
   "metadata": {},
   "outputs": [],
   "source": [
    "t: .csv.read `random.csv"
   ]
  },
  {
   "cell_type": "code",
   "execution_count": 89,
   "metadata": {},
   "outputs": [
    {
     "data": {
      "text/plain": [
       "0b\n"
      ]
     },
     "execution_count": 89,
     "metadata": {},
     "output_type": "execute_result"
    }
   ],
   "source": [
    "?[t; (); ()!(); enlist[`vol]!enlist (sum; `vol)] ~ ?[t; (); 0b; enlist[`vol]!enlist (sum; `vol)]"
   ]
  },
  {
   "cell_type": "code",
   "execution_count": 92,
   "metadata": {},
   "outputs": [
    {
     "data": {
      "text/plain": [
       "vol| 479131\n"
      ]
     },
     "execution_count": 92,
     "metadata": {},
     "output_type": "execute_result"
    }
   ],
   "source": [
    "?[t; (); (); enlist[`vol]!enlist (sum; `vol)]"
   ]
  },
  {
   "cell_type": "code",
   "execution_count": 15,
   "metadata": {
    "scrolled": true
   },
   "outputs": [
    {
     "data": {
      "text/plain": [
       "d         | appl  goog ibm   msoft\n",
       "----------| ----------------------\n",
       "2020.06.02| 520   420  533   516  \n",
       "2020.06.03| 490.5 524  359   421  \n",
       "2020.06.04| 581   546  540.5 469  \n",
       "2020.06.05| 458   273  461   429  \n",
       "2020.06.06| 319   428  484.5 460  \n",
       "2020.06.07| 462.5 591  454   419  \n",
       "2020.06.08| 493   288  387   421.5\n",
       "2020.06.09| 494   464  338   661  \n",
       "2020.06.10| 591.5 406  529   571.5\n",
       "2020.06.11| 637   459  478.5 413  \n"
      ]
     },
     "execution_count": 15,
     "metadata": {},
     "output_type": "execute_result"
    }
   ],
   "source": [
    "t1: b select med vol by d, ticker from t\n",
    "t1"
   ]
  },
  {
   "cell_type": "code",
   "execution_count": 16,
   "metadata": {},
   "outputs": [],
   "source": [
    "t1: update `$string d from t1"
   ]
  },
  {
   "cell_type": "code",
   "execution_count": 17,
   "metadata": {},
   "outputs": [
    {
     "data": {
      "text/plain": [
       "d         | appl  goog ibm   msoft\n",
       "----------| ----------------------\n",
       "2020.06.02| 520   420  533   516  \n",
       "2020.06.03| 490.5 524  359   421  \n",
       "2020.06.04| 581   546  540.5 469  \n",
       "2020.06.05| 458   273  461   429  \n",
       "2020.06.06| 319   428  484.5 460  \n",
       "2020.06.07| 462.5 591  454   419  \n",
       "2020.06.08| 493   288  387   421.5\n",
       "2020.06.09| 494   464  338   661  \n",
       "2020.06.10| 591.5 406  529   571.5\n",
       "2020.06.11| 637   459  478.5 413  \n"
      ]
     },
     "execution_count": 17,
     "metadata": {},
     "output_type": "execute_result"
    }
   ],
   "source": [
    "t1"
   ]
  },
  {
   "cell_type": "code",
   "execution_count": 9,
   "metadata": {},
   "outputs": [
    {
     "data": {
      "text/plain": [
       "ticker| vol  \n",
       "------| -----\n",
       "appl  | 495  \n",
       "goog  | 428  \n",
       "ibm   | 461.5\n",
       "msoft | 469  \n"
      ]
     },
     "execution_count": 9,
     "metadata": {},
     "output_type": "execute_result"
    }
   ],
   "source": [
    "t2: select med vol by ticker from t\n",
    "t2"
   ]
  },
  {
   "cell_type": "code",
   "execution_count": 39,
   "metadata": {},
   "outputs": [
    {
     "data": {
      "text/plain": [
       "d         | vol  \n",
       "----------| -----\n",
       "2020.06.02| 513  \n",
       "2020.06.03| 442.5\n",
       "2020.06.04| 538  \n",
       "2020.06.05| 420  \n",
       "2020.06.06| 434.5\n",
       "2020.06.07| 483  \n",
       "2020.06.08| 413.5\n",
       "2020.06.09| 492  \n",
       "2020.06.10| 529  \n",
       "2020.06.11| 500.5\n"
      ]
     },
     "execution_count": 39,
     "metadata": {},
     "output_type": "execute_result"
    }
   ],
   "source": [
    "t3: update `$string d from select med vol by d from t\n",
    "t3"
   ]
  },
  {
   "cell_type": "code",
   "execution_count": 47,
   "metadata": {},
   "outputs": [
    {
     "data": {
      "text/plain": [
       "vol\n",
       "---\n",
       "466\n"
      ]
     },
     "execution_count": 47,
     "metadata": {},
     "output_type": "execute_result"
    }
   ],
   "source": [
    "t4: select med vol from t\n",
    "t4"
   ]
  },
  {
   "cell_type": "code",
   "execution_count": 18,
   "metadata": {
    "scrolled": true
   },
   "outputs": [
    {
     "data": {
      "text/plain": [
       "ticker| vol  \n",
       "------| -----\n",
       "appl  | 495  \n",
       "goog  | 428  \n",
       "ibm   | 461.5\n",
       "msoft | 469  \n"
      ]
     },
     "execution_count": 18,
     "metadata": {},
     "output_type": "execute_result"
    }
   ],
   "source": [
    "t2"
   ]
  },
  {
   "cell_type": "code",
   "execution_count": 48,
   "metadata": {
    "scrolled": true
   },
   "outputs": [
    {
     "data": {
      "text/plain": [
       "d    | appl goog ibm   msoft Total\n",
       "-----| ---------------------------\n",
       "Total| 495  428  461.5 469   466  \n"
      ]
     },
     "execution_count": 48,
     "metadata": {},
     "output_type": "execute_result"
    }
   ],
   "source": [
    "([] d: enlist `Total)!(enlist first[value flip key t2]!first value flip value t2) ,' `Total xcol t4"
   ]
  },
  {
   "cell_type": "code",
   "execution_count": 45,
   "metadata": {
    "scrolled": false
   },
   "outputs": [
    {
     "data": {
      "text/plain": [
       "d         | appl  goog ibm   msoft Total\n",
       "----------| ----------------------------\n",
       "2020.06.02| 520   420  533   516   513  \n",
       "2020.06.03| 490.5 524  359   421   442.5\n",
       "2020.06.04| 581   546  540.5 469   538  \n",
       "2020.06.05| 458   273  461   429   420  \n",
       "2020.06.06| 319   428  484.5 460   434.5\n",
       "2020.06.07| 462.5 591  454   419   483  \n",
       "2020.06.08| 493   288  387   421.5 413.5\n",
       "2020.06.09| 494   464  338   661   492  \n",
       "2020.06.10| 591.5 406  529   571.5 529  \n",
       "2020.06.11| 637   459  478.5 413   500.5\n"
      ]
     },
     "execution_count": 45,
     "metadata": {},
     "output_type": "execute_result"
    }
   ],
   "source": [
    "t1 ,' `Total xcol value t3"
   ]
  },
  {
   "cell_type": "code",
   "execution_count": 54,
   "metadata": {
    "scrolled": true
   },
   "outputs": [
    {
     "data": {
      "text/plain": [
       "d         | appl  goog ibm   msoft All  \n",
       "----------| ----------------------------\n",
       "2020.06.02| 520   420  533   516   513  \n",
       "2020.06.03| 490.5 524  359   421   442.5\n",
       "2020.06.04| 581   546  540.5 469   538  \n",
       "2020.06.05| 458   273  461   429   420  \n",
       "2020.06.06| 319   428  484.5 460   434.5\n",
       "2020.06.07| 462.5 591  454   419   483  \n",
       "2020.06.08| 493   288  387   421.5 413.5\n",
       "2020.06.09| 494   464  338   661   492  \n",
       "2020.06.10| 591.5 406  529   571.5 529  \n",
       "2020.06.11| 637   459  478.5 413   500.5\n",
       "All       | 495   428  461.5 469   466  \n"
      ]
     },
     "execution_count": 54,
     "metadata": {},
     "output_type": "execute_result"
    }
   ],
   "source": [
    "(t1 ,' `All xcol value t3) , ([] d: enlist `All)!(enlist first[value flip key t2]!first value flip value t2) ,' `All xcol t4"
   ]
  },
  {
   "cell_type": "markdown",
   "metadata": {},
   "source": [
    "Multiple group bys\n"
   ]
  },
  {
   "cell_type": "code",
   "execution_count": 56,
   "metadata": {},
   "outputs": [],
   "source": [
    "t: update ex: count[t]?`lst`nyst from t"
   ]
  },
  {
   "cell_type": "code",
   "execution_count": 58,
   "metadata": {
    "scrolled": true
   },
   "outputs": [
    {
     "data": {
      "text/plain": [
       "d          ex  | appl  goog  ibm   msoft\n",
       "---------------| -----------------------\n",
       "2020.06.02 lst | 520   405.5 451.5 401  \n",
       "2020.06.02 nyst| 524.5 444   615   629.5\n",
       "2020.06.03 lst | 631.5 660.5 405.5 354  \n",
       "2020.06.03 nyst| 399.5 448   340   680.5\n",
       "2020.06.04 lst | 565   394   603   466  \n",
       "2020.06.04 nyst| 597   644.5 540   472  \n",
       "2020.06.05 lst | 449.5 256   467   298  \n",
       "2020.06.05 nyst| 514   376.5 414   473  \n",
       "2020.06.06 lst | 465.5 318   677   460  \n",
       "2020.06.06 nyst| 237   522.5 420   444.5\n",
       "2020.06.07 lst | 377.5 614.5 490.5 591  \n",
       "2020.06.07 nyst| 486   415   454   396  \n",
       "2020.06.08 lst | 701.5 204   409   382  \n",
       "2020.06.08 nyst| 309   396   284.5 582  \n",
       "2020.06.09 lst | 476.5 465   327   620.5\n",
       "2020.06.09 nyst| 506   463   699.5 708  \n",
       "2020.06.10 lst | 587   301.5 666   586  \n",
       "2020.06.10 nyst| 630   603.5 426   94   \n",
       "2020.06.11 lst | 692.5 505   288   289.5\n",
       "2020.06.11 nyst| 484.5 345.5 553   537  \n"
      ]
     },
     "execution_count": 58,
     "metadata": {},
     "output_type": "execute_result"
    }
   ],
   "source": [
    "t1: .pvt.pivot select med vol by d, ex, ticker from t\n",
    "t1: update `$string d from t1"
   ]
  },
  {
   "cell_type": "code",
   "execution_count": 59,
   "metadata": {
    "scrolled": true
   },
   "outputs": [
    {
     "data": {
      "text/plain": [
       "ticker| vol  \n",
       "------| -----\n",
       "appl  | 495  \n",
       "goog  | 428  \n",
       "ibm   | 461.5\n",
       "msoft | 469  \n"
      ]
     },
     "execution_count": 59,
     "metadata": {},
     "output_type": "execute_result"
    }
   ],
   "source": [
    "t2: select med vol by ticker from t\n",
    "t2"
   ]
  },
  {
   "cell_type": "code",
   "execution_count": 60,
   "metadata": {
    "scrolled": true
   },
   "outputs": [
    {
     "data": {
      "text/plain": [
       "d          ex  | vol  \n",
       "---------------| -----\n",
       "2020.06.02 lst | 447.5\n",
       "2020.06.02 nyst| 557  \n",
       "2020.06.03 lst | 421  \n",
       "2020.06.03 nyst| 448  \n",
       "2020.06.04 lst | 515  \n",
       "2020.06.04 nyst| 541  \n",
       "2020.06.05 lst | 399.5\n",
       "2020.06.05 nyst| 450  \n",
       "2020.06.06 lst | 460  \n",
       "2020.06.06 nyst| 428  \n",
       "2020.06.07 lst | 532  \n",
       "2020.06.07 nyst| 454  \n",
       "2020.06.08 lst | 418  \n",
       "2020.06.08 nyst| 412  \n",
       "2020.06.09 lst | 448  \n",
       "2020.06.09 nyst| 531.5\n",
       "2020.06.10 lst | 525  \n",
       "2020.06.10 nyst| 529  \n",
       "2020.06.11 lst | 482  \n",
       "2020.06.11 nyst| 500.5\n"
      ]
     },
     "execution_count": 60,
     "metadata": {},
     "output_type": "execute_result"
    }
   ],
   "source": [
    "t3: update `$string d, `$string ex from select med vol by d, ex from t\n",
    "t3"
   ]
  },
  {
   "cell_type": "code",
   "execution_count": 67,
   "metadata": {
    "scrolled": true
   },
   "outputs": [
    {
     "data": {
      "text/plain": [
       "d   ex | appl goog ibm   msoft All\n",
       "-------| -------------------------\n",
       "All All| 495  428  461.5 469   466\n"
      ]
     },
     "execution_count": 67,
     "metadata": {},
     "output_type": "execute_result"
    }
   ],
   "source": [
    "([] d: enlist `All; ex: enlist `All)!(enlist first[value flip key t2]!first value flip value t2) ,' `All xcol t4"
   ]
  },
  {
   "cell_type": "code",
   "execution_count": 64,
   "metadata": {
    "scrolled": true
   },
   "outputs": [
    {
     "data": {
      "text/plain": [
       "d          ex  | appl  goog  ibm   msoft Total\n",
       "---------------| -----------------------------\n",
       "2020.06.02 lst | 520   405.5 451.5 401   447.5\n",
       "2020.06.02 nyst| 524.5 444   615   629.5 557  \n",
       "2020.06.03 lst | 631.5 660.5 405.5 354   421  \n",
       "2020.06.03 nyst| 399.5 448   340   680.5 448  \n",
       "2020.06.04 lst | 565   394   603   466   515  \n",
       "2020.06.04 nyst| 597   644.5 540   472   541  \n",
       "2020.06.05 lst | 449.5 256   467   298   399.5\n",
       "2020.06.05 nyst| 514   376.5 414   473   450  \n",
       "2020.06.06 lst | 465.5 318   677   460   460  \n",
       "2020.06.06 nyst| 237   522.5 420   444.5 428  \n",
       "2020.06.07 lst | 377.5 614.5 490.5 591   532  \n",
       "2020.06.07 nyst| 486   415   454   396   454  \n",
       "2020.06.08 lst | 701.5 204   409   382   418  \n",
       "2020.06.08 nyst| 309   396   284.5 582   412  \n",
       "2020.06.09 lst | 476.5 465   327   620.5 448  \n",
       "2020.06.09 nyst| 506   463   699.5 708   531.5\n",
       "2020.06.10 lst | 587   301.5 666   586   525  \n",
       "2020.06.10 nyst| 630   603.5 426   94    529  \n",
       "2020.06.11 lst | 692.5 505   288   289.5 482  \n",
       "2020.06.11 nyst| 484.5 345.5 553   537   500.5\n"
      ]
     },
     "execution_count": 64,
     "metadata": {},
     "output_type": "execute_result"
    }
   ],
   "source": [
    "t1 ,' `All xcol value t3"
   ]
  },
  {
   "cell_type": "code",
   "execution_count": 71,
   "metadata": {
    "scrolled": false
   },
   "outputs": [
    {
     "data": {
      "text/plain": [
       "d          ex  | appl  goog  ibm   msoft All  \n",
       "---------------| -----------------------------\n",
       "2020.06.02 lst | 520   405.5 451.5 401   447.5\n",
       "2020.06.02 nyst| 524.5 444   615   629.5 557  \n",
       "2020.06.03 lst | 631.5 660.5 405.5 354   421  \n",
       "2020.06.03 nyst| 399.5 448   340   680.5 448  \n",
       "2020.06.04 lst | 565   394   603   466   515  \n",
       "2020.06.04 nyst| 597   644.5 540   472   541  \n",
       "2020.06.05 lst | 449.5 256   467   298   399.5\n",
       "2020.06.05 nyst| 514   376.5 414   473   450  \n",
       "2020.06.06 lst | 465.5 318   677   460   460  \n",
       "2020.06.06 nyst| 237   522.5 420   444.5 428  \n",
       "2020.06.07 lst | 377.5 614.5 490.5 591   532  \n",
       "2020.06.07 nyst| 486   415   454   396   454  \n",
       "2020.06.08 lst | 701.5 204   409   382   418  \n",
       "2020.06.08 nyst| 309   396   284.5 582   412  \n",
       "2020.06.09 lst | 476.5 465   327   620.5 448  \n",
       "2020.06.09 nyst| 506   463   699.5 708   531.5\n",
       "2020.06.10 lst | 587   301.5 666   586   525  \n",
       "2020.06.10 nyst| 630   603.5 426   94    529  \n",
       "2020.06.11 lst | 692.5 505   288   289.5 482  \n",
       "2020.06.11 nyst| 484.5 345.5 553   537   500.5\n",
       "All        All | 495   428   461.5 469   466  \n"
      ]
     },
     "execution_count": 71,
     "metadata": {},
     "output_type": "execute_result"
    }
   ],
   "source": [
    "(t1 ,' `All xcol value t3), ([] d: enlist `All; ex: enlist `All)!(enlist first[value flip key t2]!first value flip value t2) ,' `All xcol t4"
   ]
  },
  {
   "cell_type": "code",
   "execution_count": 87,
   "metadata": {
    "scrolled": true
   },
   "outputs": [
    {
     "data": {
      "text/plain": [
       "d   ex \n",
       "-------\n",
       "All All\n"
      ]
     },
     "execution_count": 87,
     "metadata": {},
     "output_type": "execute_result"
    }
   ],
   "source": [
    "enlist `d`ex!`All`All"
   ]
  },
  {
   "cell_type": "code",
   "execution_count": 107,
   "metadata": {
    "scrolled": false
   },
   "outputs": [
    {
     "data": {
      "text/plain": [
       "d          ex  | appl   goog   ibm    msoft  All   \n",
       "---------------| ----------------------------------\n",
       "2020.06.02 lst | 6607   5912   8119   5093   25731 \n",
       "2020.06.02 nyst| 3325   4438   4006   6015   17784 \n",
       "2020.06.03 lst | 5801   6765   3916   5466   21948 \n",
       "2020.06.03 nyst| 4760   4100   5218   8513   22591 \n",
       "2020.06.04 lst | 11047  6435   9014   5387   31883 \n",
       "2020.06.04 nyst| 3504   6056   8881   6364   24805 \n",
       "2020.06.05 lst | 11609  3343   7660   5409   28021 \n",
       "2020.06.05 nyst| 5966   4685   7176   6490   24317 \n",
       "2020.06.06 lst | 5910   3387   5808   5450   20555 \n",
       "2020.06.06 nyst| 5902   8099   10486  3368   27855 \n",
       "2020.06.07 lst | 7299   8904   2022   8454   26679 \n",
       "2020.06.07 nyst| 8561   5153   7694   5130   26538 \n",
       "2020.06.08 lst | 8829   3685   5678   6866   25058 \n",
       "2020.06.08 nyst| 5237   5600   6763   6098   23698 \n",
       "2020.06.09 lst | 4709   5367   4472   7180   21728 \n",
       "2020.06.09 nyst| 6418   4798   4533   11315  27064 \n",
       "2020.06.10 lst | 7061   5037   5870   7900   25868 \n",
       "2020.06.10 nyst| 5033   3496   4739   708    13976 \n",
       "2020.06.11 lst | 7858   7028   4331   2729   21946 \n",
       "2020.06.11 nyst| 5568   2238   8088   5192   21086 \n",
       "All        All | 131004 104526 124474 119127 479131\n"
      ]
     },
     "execution_count": 107,
     "metadata": {},
     "output_type": "execute_result"
    }
   ],
   "source": [
    ".pvt.pivotWithTotal[?[t; (); ; enlist[`vol]!enlist (sum; `vol)]; `d`ex`ticker!`d`ex`ticker]"
   ]
  },
  {
   "cell_type": "code",
   "execution_count": 94,
   "metadata": {},
   "outputs": [],
   "source": [
    "fn: ?[t; (); ; enlist[`vol]!enlist (sum; `vol)]"
   ]
  },
  {
   "cell_type": "code",
   "execution_count": 95,
   "metadata": {},
   "outputs": [],
   "source": [
    "grps: `d`ticker!`d`ticker"
   ]
  },
  {
   "cell_type": "code",
   "execution_count": 96,
   "metadata": {},
   "outputs": [],
   "source": [
    "t1: .pvt.pivot fn[grps];\n",
    "t2: fn[-1 # grps];\n",
    "t3: fn[-1 _ grps];\n",
    "t4: fn[()!()];"
   ]
  },
  {
   "cell_type": "code",
   "execution_count": 97,
   "metadata": {
    "scrolled": true
   },
   "outputs": [
    {
     "data": {
      "text/plain": [
       "All   \n",
       "------\n",
       "479131\n"
      ]
     },
     "execution_count": 97,
     "metadata": {},
     "output_type": "execute_result"
    }
   ],
   "source": [
    "(t1 ,' `All xcol value t3), (enlist (-1 _ grps)!(-1 + count grps)#`All)!(enlist first[value flip key t2]!first value flip value t2b) ,' `All xcol t4"
   ]
  },
  {
   "cell_type": "code",
   "execution_count": 104,
   "metadata": {},
   "outputs": [
    {
     "ename": "\u001b[0;31mtype\u001b[0m",
     "evalue": "\u001b[0;31mtype\u001b[0m",
     "output_type": "error",
     "traceback": [
      "\u001b[0;31mevaluation error:\n\u001b[0m",
      "\u001b[0;31mtype\u001b[0m",
      "\u001b[0;31m\u001b[0m",
      "\u001b[0;31m  [0]  (t1 ,' `All xcol value t3), (enlist (-1 _ key grps)!(-1 + count grps)#`All)!(enlist first[value flip key t2]!first value flip value t2) ,' `All xcol t4\n                                 ^\n\u001b[0m"
     ]
    }
   ],
   "source": [
    "(t1 ,' `All xcol value t3), (enlist (-1 _ key grps)!(-1 + count grps)#`All)!(enlist first[value flip key t2]!first value flip value t2) ,' `All xcol t4"
   ]
  },
  {
   "cell_type": "code",
   "execution_count": 104,
   "metadata": {},
   "outputs": [
    {
     "data": {
      "text/plain": [
       "d         | appl  goog  ibm   msoft All  \n",
       "----------| -----------------------------\n",
       "2020.06.02| 9932  10350 12125 11108 43515\n",
       "2020.06.03| 10561 10865 9134  13979 44539\n",
       "2020.06.04| 14551 12491 17895 11751 56688\n",
       "2020.06.05| 17575 8028  14836 11899 52338\n",
       "2020.06.06| 11812 11486 16294 8818  48410\n",
       "2020.06.07| 15860 14057 9716  13584 53217\n",
       "2020.06.08| 14066 9285  12441 12964 48756\n",
       "2020.06.09| 11127 10165 9005  18495 48792\n",
       "2020.06.10| 12094 8533  10609 8608  39844\n",
       "2020.06.11| 13426 9266  12419 7921  43032\n"
      ]
     },
     "execution_count": 104,
     "metadata": {},
     "output_type": "execute_result"
    }
   ],
   "source": [
    "(t1 ,' `All xcol value t3)"
   ]
  }
 ],
 "metadata": {
  "kernelspec": {
   "display_name": "Q (kdb+)",
   "language": "q",
   "name": "qpk"
  },
  "language_info": {
   "file_extension": ".q",
   "mimetype": "text/x-q",
   "name": "q",
   "version": "4.0"
  }
 },
 "nbformat": 4,
 "nbformat_minor": 2
}
